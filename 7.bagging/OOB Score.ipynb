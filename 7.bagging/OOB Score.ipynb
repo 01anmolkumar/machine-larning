{
 "cells": [
  {
   "cell_type": "code",
   "execution_count": 2,
   "id": "31c25eba-ea57-4c6d-ae15-7de13746a0e5",
   "metadata": {},
   "outputs": [
    {
     "name": "stdout",
     "output_type": "stream",
     "text": [
      "Out-of-Bag Score: 0.895\n"
     ]
    }
   ],
   "source": [
    "from sklearn.ensemble import RandomForestClassifier\n",
    "from sklearn.datasets import make_classification\n",
    "\n",
    "\n",
    "X, y = make_classification(n_samples=1000, n_features=20, n_classes=2, random_state=42)\n",
    "\n",
    "\n",
    "rf_classifier = RandomForestClassifier(n_estimators=100, oob_score=True, random_state=42)\n",
    "\n",
    "\n",
    "rf_classifier.fit(X, y)\n",
    "\n",
    "oob_score = rf_classifier.oob_score_\n",
    "print(\"Out-of-Bag Score:\", oob_score)\n"
   ]
  },
  {
   "cell_type": "code",
   "execution_count": null,
   "id": "8ab98ba7-199b-4d48-bd9a-0630b6af472b",
   "metadata": {},
   "outputs": [],
   "source": []
  }
 ],
 "metadata": {
  "kernelspec": {
   "display_name": "Python 3 (ipykernel)",
   "language": "python",
   "name": "python3"
  },
  "language_info": {
   "codemirror_mode": {
    "name": "ipython",
    "version": 3
   },
   "file_extension": ".py",
   "mimetype": "text/x-python",
   "name": "python",
   "nbconvert_exporter": "python",
   "pygments_lexer": "ipython3",
   "version": "3.12.3"
  }
 },
 "nbformat": 4,
 "nbformat_minor": 5
}
